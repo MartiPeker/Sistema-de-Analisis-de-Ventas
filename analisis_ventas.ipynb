{
 "cells": [
  {
   "cell_type": "markdown",
   "id": "c74a57b3",
   "metadata": {},
   "source": [
    "# Visualización del analisis por ventas"
   ]
  },
  {
   "cell_type": "code",
   "execution_count": 14,
   "id": "4ab7b9c5",
   "metadata": {},
   "outputs": [],
   "source": [
    "import sys\n",
    "import os\n",
    "import pandas as pd\n",
    "sys.path.append(os.path.abspath(\"src\"))\n"
   ]
  },
  {
   "cell_type": "code",
   "execution_count": 15,
   "id": "0875e72a",
   "metadata": {},
   "outputs": [],
   "source": [
    "from load_data import (\n",
    "    load_customers, load_employees, load_products, load_sales,\n",
    "    load_categories, load_cities, load_countries\n",
    ")\n",
    "\n",
    "from analysis.context import AnalysisContext\n",
    "from analysis.product_analysis import ProductAnalysisStrategy\n",
    "from analysis.city_analysis import CityAnalysisStrategy\n"
   ]
  },
  {
   "cell_type": "code",
   "execution_count": 16,
   "id": "4871948e",
   "metadata": {},
   "outputs": [
    {
     "name": "stdout",
     "output_type": "stream",
     "text": [
      "50000 ventas cargadas.\n"
     ]
    }
   ],
   "source": [
    "customers = load_customers('data/customers.csv')\n",
    "employees = load_employees('data/employees.csv')\n",
    "products = load_products('data/products.csv')\n",
    "sales = load_sales('data/sales.csv')\n",
    "categories = load_categories('data/categories.csv')\n",
    "cities = load_cities('data/cities.csv')\n",
    "countries = load_countries('data/countries.csv')\n",
    "\n",
    "print(f\"{len(sales)} ventas cargadas.\")\n"
   ]
  },
  {
   "cell_type": "markdown",
   "id": "f3d57037",
   "metadata": {},
   "source": [
    "## Analisis por Producto"
   ]
  },
  {
   "cell_type": "code",
   "execution_count": 17,
   "id": "28a8f300",
   "metadata": {},
   "outputs": [
    {
     "name": "stdout",
     "output_type": "stream",
     "text": [
      "452 resultados de análisis de productos generados.\n"
     ]
    },
    {
     "data": {
      "text/plain": [
       "[(177, 23871.0), (250, 23726.0), (422, 23566.0), (287, 23074.0), (65, 22977.0)]"
      ]
     },
     "execution_count": 17,
     "metadata": {},
     "output_type": "execute_result"
    }
   ],
   "source": [
    "context = AnalysisContext(ProductAnalysisStrategy())\n",
    "product_results = context.execute_analysis(sales, products, customers, cities)\n",
    "print(f\"{len(product_results)} resultados de análisis de productos generados.\")\n",
    "product_results[:5]\n"
   ]
  },
  {
   "cell_type": "markdown",
   "id": "c44d68e3",
   "metadata": {},
   "source": [
    "##  Analisis por Ciudad"
   ]
  },
  {
   "cell_type": "code",
   "execution_count": 18,
   "id": "4bac9a01",
   "metadata": {},
   "outputs": [
    {
     "name": "stdout",
     "output_type": "stream",
     "text": [
      "96 resultados de análisis de ciudades generados.\n"
     ]
    },
    {
     "data": {
      "text/plain": [
       "[('Yonkers', 102038.0),\n",
       " ('Sacramento', 93261.0),\n",
       " ('St. Petersburg', 92329.0),\n",
       " ('Albuquerque', 92055.0),\n",
       " ('Phoenix', 90623.0)]"
      ]
     },
     "execution_count": 18,
     "metadata": {},
     "output_type": "execute_result"
    }
   ],
   "source": [
    "context.set_strategy(CityAnalysisStrategy())\n",
    "city_results = context.execute_analysis(sales, products, customers, cities)\n",
    "print(f\"{len(city_results)} resultados de análisis de ciudades generados.\")\n",
    "city_results[:5]\n"
   ]
  },
  {
   "cell_type": "markdown",
   "id": "6d2a0f0b",
   "metadata": {},
   "source": [
    "## Categorias de Productos mas vendidos"
   ]
  },
  {
   "cell_type": "code",
   "execution_count": 19,
   "id": "e2610934",
   "metadata": {},
   "outputs": [
    {
     "data": {
      "text/html": [
       "<div>\n",
       "<style scoped>\n",
       "    .dataframe tbody tr th:only-of-type {\n",
       "        vertical-align: middle;\n",
       "    }\n",
       "\n",
       "    .dataframe tbody tr th {\n",
       "        vertical-align: top;\n",
       "    }\n",
       "\n",
       "    .dataframe thead th {\n",
       "        text-align: right;\n",
       "    }\n",
       "</style>\n",
       "<table border=\"1\" class=\"dataframe\">\n",
       "  <thead>\n",
       "    <tr style=\"text-align: right;\">\n",
       "      <th></th>\n",
       "      <th>Categoría</th>\n",
       "      <th>Ingresos Totales</th>\n",
       "    </tr>\n",
       "  </thead>\n",
       "  <tbody>\n",
       "    <tr>\n",
       "      <th>0</th>\n",
       "      <td>Confections</td>\n",
       "      <td>$998,526.00</td>\n",
       "    </tr>\n",
       "    <tr>\n",
       "      <th>1</th>\n",
       "      <td>Meat</td>\n",
       "      <td>$862,283.00</td>\n",
       "    </tr>\n",
       "    <tr>\n",
       "      <th>2</th>\n",
       "      <td>Poultry</td>\n",
       "      <td>$815,645.00</td>\n",
       "    </tr>\n",
       "    <tr>\n",
       "      <th>3</th>\n",
       "      <td>Cereals</td>\n",
       "      <td>$805,381.00</td>\n",
       "    </tr>\n",
       "    <tr>\n",
       "      <th>4</th>\n",
       "      <td>Produce</td>\n",
       "      <td>$736,564.00</td>\n",
       "    </tr>\n",
       "  </tbody>\n",
       "</table>\n",
       "</div>"
      ],
      "text/plain": [
       "     Categoría Ingresos Totales\n",
       "0  Confections      $998,526.00\n",
       "1         Meat      $862,283.00\n",
       "2      Poultry      $815,645.00\n",
       "3      Cereals      $805,381.00\n",
       "4      Produce      $736,564.00"
      ]
     },
     "execution_count": 19,
     "metadata": {},
     "output_type": "execute_result"
    }
   ],
   "source": [
    "from collections import defaultdict\n",
    "\n",
    "product_map = {p.product_id: (p.product_name, p.category_id) for p in products}\n",
    "category_map = {c.category_id: c.category_name for c in categories}\n",
    "\n",
    "context.set_strategy(ProductAnalysisStrategy())\n",
    "product_results = context.execute_analysis(sales, products, customers, cities)\n",
    "\n",
    "category_totals = defaultdict(float)\n",
    "for pid, total in product_results:\n",
    "    _, cid = product_map.get(pid, (None, None))\n",
    "    if cid:\n",
    "        category_name = category_map.get(cid, \"Desconocida\")\n",
    "        category_totals[category_name] += total\n",
    "\n",
    "top_categories = sorted(category_totals.items(), key=lambda x: x[1], reverse=True)[:5]\n",
    "import pandas as pd\n",
    "pd.DataFrame([\n",
    "    {\"Categoría\": name, \"Ingresos Totales\": f\"${total:,.2f}\"}\n",
    "    for name, total in top_categories\n",
    "])\n"
   ]
  }
 ],
 "metadata": {
  "kernelspec": {
   "display_name": "venv",
   "language": "python",
   "name": "python3"
  },
  "language_info": {
   "codemirror_mode": {
    "name": "ipython",
    "version": 3
   },
   "file_extension": ".py",
   "mimetype": "text/x-python",
   "name": "python",
   "nbconvert_exporter": "python",
   "pygments_lexer": "ipython3",
   "version": "3.11.6"
  }
 },
 "nbformat": 4,
 "nbformat_minor": 5
}
